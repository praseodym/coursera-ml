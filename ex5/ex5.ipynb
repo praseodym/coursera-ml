{
 "cells": [
  {
   "cell_type": "code",
   "execution_count": 1,
   "metadata": {},
   "outputs": [],
   "source": [
    "%% Machine Learning Online Class\n",
    "%  Exercise 5 | Regularized Linear Regression and Bias-Variance\n",
    "%\n",
    "%  Instructions\n",
    "%  ------------\n",
    "% \n",
    "%  This file contains code that helps you get started on the\n",
    "%  exercise. You will need to complete the following functions:\n",
    "%\n",
    "%     linearRegCostFunction.m\n",
    "%     learningCurve.m\n",
    "%     validationCurve.m\n",
    "%\n",
    "%  For this exercise, you will not need to change any code in this file,\n",
    "%  or any other files other than those mentioned above.\n",
    "%"
   ]
  },
  {
   "cell_type": "code",
   "execution_count": 2,
   "metadata": {},
   "outputs": [
    {
     "name": "stdout",
     "output_type": "stream",
     "text": [
      "Loading and Visualizing Data ...\n"
     ]
    },
    {
     "data": {
      "image/png": "[encoded data removed]",
      "text/plain": [
       "<IPython.core.display.Image object>"
      ]
     },
     "metadata": {},
     "output_type": "display_data"
    }
   ],
   "source": [
    "%% =========== Part 1: Loading and Visualizing Data =============\n",
    "%  We start the exercise by first loading and visualizing the dataset. \n",
    "%  The following code will load the dataset into your environment and plot\n",
    "%  the data.\n",
    "%\n",
    "\n",
    "% Load Training Data\n",
    "fprintf('Loading and Visualizing Data ...\\n')\n",
    "\n",
    "% Load from ex5data1: \n",
    "% You will have X, y, Xval, yval, Xtest, ytest in your environment\n",
    "load ('ex5data1.mat');\n",
    "\n",
    "% m = Number of examples\n",
    "m = size(X, 1);\n",
    "\n",
    "% Plot training data\n",
    "plot(X, y, 'rx', 'MarkerSize', 10, 'LineWidth', 1.5);\n",
    "xlabel('Change in water level (x)');\n",
    "ylabel('Water flowing out of the dam (y)');"
   ]
  },
  {
   "cell_type": "code",
   "execution_count": 3,
   "metadata": {},
   "outputs": [
    {
     "name": "stdout",
     "output_type": "stream",
     "text": [
      "Cost at theta = [1 ; 1]: 303.993192 \n",
      "(this value should be about 303.993192)\n"
     ]
    }
   ],
   "source": [
    "%% =========== Part 2: Regularized Linear Regression Cost =============\n",
    "%  You should now implement the cost function for regularized linear \n",
    "%  regression. \n",
    "%\n",
    "\n",
    "theta = [1 ; 1];\n",
    "J = linearRegCostFunction([ones(m, 1) X], y, theta, 1);\n",
    "\n",
    "fprintf(['Cost at theta = [1 ; 1]: %f '...\n",
    "         '\\n(this value should be about 303.993192)\\n'], J);"
   ]
  },
  {
   "cell_type": "code",
   "execution_count": 4,
   "metadata": {},
   "outputs": [
    {
     "name": "stdout",
     "output_type": "stream",
     "text": [
      "Gradient at theta = [1 ; 1]:  [-15.303016; 598.250744] \n",
      "(this value should be about [-15.303016; 598.250744])\n"
     ]
    }
   ],
   "source": [
    "%% =========== Part 3: Regularized Linear Regression Gradient =============\n",
    "%  You should now implement the gradient for regularized linear \n",
    "%  regression.\n",
    "%\n",
    "\n",
    "theta = [1 ; 1];\n",
    "[J, grad] = linearRegCostFunction([ones(m, 1) X], y, theta, 1);\n",
    "\n",
    "fprintf(['Gradient at theta = [1 ; 1]:  [%f; %f] '...\n",
    "         '\\n(this value should be about [-15.303016; 598.250744])\\n'], ...\n",
    "         grad(1), grad(2));"
   ]
  },
  {
   "cell_type": "code",
   "execution_count": 5,
   "metadata": {},
   "outputs": [
    {
     "name": "stdout",
     "output_type": "stream",
     "text": [
      "Iteration     2 | Cost: 2.237391e+01\n"
     ]
    },
    {
     "data": {
      "image/png": "[encoded data removed]",
      "text/plain": [
       "<IPython.core.display.Image object>"
      ]
     },
     "metadata": {},
     "output_type": "display_data"
    }
   ],
   "source": [
    "%% =========== Part 4: Train Linear Regression =============\n",
    "%  Once you have implemented the cost and gradient correctly, the\n",
    "%  trainLinearReg function will use your cost function to train \n",
    "%  regularized linear regression.\n",
    "% \n",
    "%  Write Up Note: The data is non-linear, so this will not give a great \n",
    "%                 fit.\n",
    "%\n",
    "\n",
    "%  Train linear regression with lambda = 0\n",
    "lambda = 0;\n",
    "[theta] = trainLinearReg([ones(m, 1) X], y, lambda);\n",
    "\n",
    "%  Plot fit over the data\n",
    "plot(X, y, 'rx', 'MarkerSize', 10, 'LineWidth', 1.5);\n",
    "xlabel('Change in water level (x)');\n",
    "ylabel('Water flowing out of the dam (y)');\n",
    "hold on;\n",
    "plot(X, [ones(m, 1) X]*theta, '--', 'LineWidth', 2)\n",
    "hold off;"
   ]
  },
  {
   "cell_type": "code",
   "execution_count": 6,
   "metadata": {},
   "outputs": [
    {
     "name": "stdout",
     "output_type": "stream",
     "text": [
      "warning: division by zero\n",
      "warning: called from\n",
      "    fmincg at line 102 column 12\n",
      "    trainLinearReg at line 19 column 7\n",
      "    learningCurve at line 57 column 11\n",
      "warning: division by zero\n",
      "warning: called from\n",
      "    fmincg at line 124 column 8\n",
      "    trainLinearReg at line 19 column 7\n",
      "    learningCurve at line 57 column 11\n",
      "warning: division by zero\n",
      "warning: called from\n",
      "    fmincg at line 124 column 8\n",
      "    trainLinearReg at line 19 column 7\n",
      "    learningCurve at line 57 column 11\n",
      "warning: division by zero\n",
      "warning: called from\n",
      "    fmincg at line 124 column 8\n",
      "    trainLinearReg at line 19 column 7\n",
      "    learningCurve at line 57 column 11\n",
      "warning: division by zero\n",
      "warning: called from\n",
      "    fmincg at line 124 column 8\n",
      "    trainLinearReg at line 19 column 7\n",
      "    learningCurve at line 57 column 11\n",
      "warning: division by zero\n",
      "warning: called from\n",
      "    fmincg at line 124 column 8\n",
      "    trainLinearReg at line 19 column 7\n",
      "    learningCurve at line 57 column 11\n",
      "warning: division by zero\n",
      "warning: called from\n",
      "    fmincg at line 124 column 8\n",
      "    trainLinearReg at line 19 column 7\n",
      "    learningCurve at line 57 column 11\n",
      "warning: division by zero\n",
      "warning: called from\n",
      "    fmincg at line 124 column 8\n",
      "    trainLinearReg at line 19 column 7\n",
      "    learningCurve at line 57 column 11\n",
      "warning: division by zero\n",
      "warning: called from\n",
      "    fmincg at line 124 column 8\n",
      "    trainLinearReg at line 19 column 7\n",
      "    learningCurve at line 57 column 11\n",
      "warning: division by zero\n",
      "warning: called from\n",
      "    fmincg at line 124 column 8\n",
      "    trainLinearReg at line 19 column 7\n",
      "    learningCurve at line 57 column 11\n",
      "warning: division by zero\n",
      "warning: called from\n",
      "    fmincg at line 124 column 8\n",
      "    trainLinearReg at line 19 column 7\n",
      "    learningCurve at line 57 column 11\n",
      "warning: division by zero\n",
      "warning: called from\n",
      "    fmincg at line 124 column 8\n",
      "    trainLinearReg at line 19 column 7\n",
      "    learningCurve at line 57 column 11\n",
      "warning: division by zero\n",
      "warning: called from\n",
      "    fmincg at line 124 column 8\n",
      "    trainLinearReg at line 19 column 7\n",
      "    learningCurve at line 57 column 11\n",
      "warning: division by zero\n",
      "warning: called from\n",
      "    fmincg at line 124 column 8\n",
      "    trainLinearReg at line 19 column 7\n",
      "    learningCurve at line 57 column 11\n",
      "warning: division by zero\n",
      "warning: called from\n",
      "    fmincg at line 124 column 8\n",
      "    trainLinearReg at line 19 column 7\n",
      "    learningCurve at line 57 column 11\n",
      "warning: division by zero\n",
      "warning: called from\n",
      "    fmincg at line 124 column 8\n",
      "    trainLinearReg at line 19 column 7\n",
      "    learningCurve at line 57 column 11\n",
      "warning: division by zero\n",
      "warning: called from\n",
      "    fmincg at line 124 column 8\n",
      "    trainLinearReg at line 19 column 7\n",
      "    learningCurve at line 57 column 11\n",
      "warning: division by zero\n",
      "warning: called from\n",
      "    fmincg at line 124 column 8\n",
      "    trainLinearReg at line 19 column 7\n",
      "    learningCurve at line 57 column 11\n",
      "warning: division by zero\n",
      "warning: called from\n",
      "    fmincg at line 124 column 8\n",
      "    trainLinearReg at line 19 column 7\n",
      "    learningCurve at line 57 column 11\n",
      "warning: division by zero\n",
      "warning: called from\n",
      "    fmincg at line 124 column 8\n",
      "    trainLinearReg at line 19 column 7\n",
      "    learningCurve at line 57 column 11\n",
      "warning: division by zero\n",
      "warning: called from\n",
      "    fmincg at line 124 column 8\n",
      "    trainLinearReg at line 19 column 7\n",
      "    learningCurve at line 57 column 11\n",
      "warning: division by zero\n",
      "warning: called from\n",
      "    fmincg at line 124 column 8\n",
      "    trainLinearReg at line 19 column 7\n",
      "    learningCurve at line 57 column 11\n",
      "warning: division by zero\n",
      "warning: called from\n",
      "    fmincg at line 124 column 8\n",
      "    trainLinearReg at line 19 column 7\n",
      "    learningCurve at line 57 column 11\n",
      "warning: division by zero\n",
      "warning: called from\n",
      "    fmincg at line 124 column 8\n",
      "    trainLinearReg at line 19 column 7\n",
      "    learningCurve at line 57 column 11\n",
      "warning: division by zero\n",
      "warning: called from\n",
      "    fmincg at line 124 column 8\n",
      "    trainLinearReg at line 19 column 7\n",
      "    learningCurve at line 57 column 11\n",
      "warning: division by zero\n",
      "warning: called from\n",
      "    fmincg at line 124 column 8\n",
      "    trainLinearReg at line 19 column 7\n",
      "    learningCurve at line 57 column 11\n",
      "warning: division by zero\n",
      "warning: called from\n",
      "    fmincg at line 124 column 8\n",
      "    trainLinearReg at line 19 column 7\n",
      "    learningCurve at line 57 column 11\n",
      "warning: division by zero\n",
      "warning: called from\n",
      "    fmincg at line 124 column 8\n",
      "    trainLinearReg at line 19 column 7\n",
      "    learningCurve at line 57 column 11\n",
      "warning: division by zero\n",
      "warning: called from\n",
      "    fmincg at line 124 column 8\n",
      "    trainLinearReg at line 19 column 7\n",
      "    learningCurve at line 57 column 11\n",
      "warning: division by zero\n",
      "warning: called from\n",
      "    fmincg at line 124 column 8\n",
      "    trainLinearReg at line 19 column 7\n",
      "    learningCurve at line 57 column 11\n",
      "warning: division by zero\n",
      "warning: called from\n",
      "    fmincg at line 124 column 8\n",
      "    trainLinearReg at line 19 column 7\n",
      "    learningCurve at line 57 column 11\n",
      "warning: division by zero\n",
      "warning: called from\n",
      "    fmincg at line 124 column 8\n",
      "    trainLinearReg at line 19 column 7\n",
      "    learningCurve at line 57 column 11\n",
      "warning: division by zero\n",
      "warning: called from\n",
      "    fmincg at line 124 column 8\n",
      "    trainLinearReg at line 19 column 7\n",
      "    learningCurve at line 57 column 11\n",
      "warning: division by zero\n",
      "warning: called from\n",
      "    fmincg at line 124 column 8\n",
      "    trainLinearReg at line 19 column 7\n",
      "    learningCurve at line 57 column 11\n",
      "warning: division by zero\n",
      "warning: called from\n",
      "    fmincg at line 124 column 8\n",
      "    trainLinearReg at line 19 column 7\n",
      "    learningCurve at line 57 column 11\n",
      "warning: division by zero\n",
      "warning: called from\n",
      "    fmincg at line 124 column 8\n",
      "    trainLinearReg at line 19 column 7\n",
      "    learningCurve at line 57 column 11\n",
      "warning: division by zero\n",
      "warning: called from\n",
      "    fmincg at line 124 column 8\n",
      "    trainLinearReg at line 19 column 7\n",
      "    learningCurve at line 57 column 11\n",
      "warning: division by zero\n",
      "warning: called from\n",
      "    fmincg at line 124 column 8\n",
      "    trainLinearReg at line 19 column 7\n",
      "    learningCurve at line 57 column 11\n",
      "warning: division by zero\n",
      "warning: called from\n",
      "    fmincg at line 124 column 8\n",
      "    trainLinearReg at line 19 column 7\n",
      "    learningCurve at line 57 column 11\n",
      "warning: division by zero\n",
      "warning: called from\n",
      "    fmincg at line 124 column 8\n",
      "    trainLinearReg at line 19 column 7\n",
      "    learningCurve at line 57 column 11\n",
      "warning: division by zero\n",
      "warning: called from\n",
      "    fmincg at line 124 column 8\n",
      "    trainLinearReg at line 19 column 7\n",
      "    learningCurve at line 57 column 11\n",
      "\n",
      "Iteration     3 | Cost: 9.860761e-32\n",
      "Iteration     2 | Cost: 3.286595e+00\n",
      "Iteration    28 | Cost: 2.842678e+00\n",
      "Iteration    24 | Cost: 1.315405e+01\n",
      "Iteration    27 | Cost: 1.944396e+01\n",
      "Iteration    13 | Cost: 2.009852e+01\n",
      "Iteration    30 | Cost: 1.817286e+01\n",
      "Iteration    11 | Cost: 2.260941e+01\n",
      "Iteration    33 | Cost: 2.326146e+01\n",
      "Iteration    10 | Cost: 2.431725e+01\n",
      "Iteration     2 | Cost: 2.237391e+01\n",
      "# Training Examples\tTrain Error\tCross Validation Error\n",
      "  \t1\t\t0.000000\t205.121096\n",
      "  \t2\t\t0.000000\t110.300366\n",
      "  \t3\t\t3.286595\t45.010231\n",
      "  \t4\t\t2.842678\t48.368911\n",
      "  \t5\t\t13.154049\t35.865165\n",
      "  \t6\t\t19.443963\t33.829962\n",
      "  \t7\t\t20.098522\t31.970986\n",
      "  \t8\t\t18.172859\t30.862446\n",
      "  \t9\t\t22.609405\t31.135998\n",
      "  \t10\t\t23.261462\t28.936207\n",
      "  \t11\t\t24.317250\t29.551432\n",
      "  \t12\t\t22.373906\t29.433818\n"
     ]
    },
    {
     "data": {
      "image/png": "[encoded data removed]",
      "text/plain": [
       "<IPython.core.display.Image object>"
      ]
     },
     "metadata": {},
     "output_type": "display_data"
    }
   ],
   "source": [
    "%% =========== Part 5: Learning Curve for Linear Regression =============\n",
    "%  Next, you should implement the learningCurve function. \n",
    "%\n",
    "%  Write Up Note: Since the model is underfitting the data, we expect to\n",
    "%                 see a graph with \"high bias\" -- Figure 3 in ex5.pdf \n",
    "%\n",
    "\n",
    "lambda = 0;\n",
    "[error_train, error_val] = ...\n",
    "    learningCurve([ones(m, 1) X], y, ...\n",
    "                  [ones(size(Xval, 1), 1) Xval], yval, ...\n",
    "                  lambda);\n",
    "\n",
    "plot(1:m, error_train, 1:m, error_val);\n",
    "title('Learning curve for linear regression')\n",
    "legend('Train', 'Cross Validation')\n",
    "xlabel('Number of training examples')\n",
    "ylabel('Error')\n",
    "axis([0 13 0 150])\n",
    "\n",
    "fprintf('# Training Examples\\tTrain Error\\tCross Validation Error\\n');\n",
    "for i = 1:m\n",
    "    fprintf('  \\t%d\\t\\t%f\\t%f\\n', i, error_train(i), error_val(i));\n",
    "end\n",
    "\n",
    "% \"division by zero\" warnings can be safely ignored"
   ]
  },
  {
   "cell_type": "code",
   "execution_count": 7,
   "metadata": {},
   "outputs": [
    {
     "name": "stdout",
     "output_type": "stream",
     "text": [
      "Normalized Training Example 1:\n",
      "  1.000000  \n",
      "  -0.362141  \n",
      "  -0.755087  \n",
      "  0.182226  \n",
      "  -0.706190  \n",
      "  0.306618  \n",
      "  -0.590878  \n",
      "  0.344516  \n",
      "  -0.508481  \n"
     ]
    }
   ],
   "source": [
    "%% =========== Part 6: Feature Mapping for Polynomial Regression =============\n",
    "%  One solution to this is to use polynomial regression. You should now\n",
    "%  complete polyFeatures to map each example into its powers\n",
    "%\n",
    "\n",
    "p = 8;\n",
    "\n",
    "% Map X onto Polynomial Features and Normalize\n",
    "X_poly = polyFeatures(X, p);\n",
    "[X_poly, mu, sigma] = featureNormalize(X_poly);  % Normalize\n",
    "X_poly = [ones(m, 1), X_poly];                   % Add Ones\n",
    "\n",
    "% Map X_poly_test and normalize (using mu and sigma)\n",
    "X_poly_test = polyFeatures(Xtest, p);\n",
    "X_poly_test = bsxfun(@minus, X_poly_test, mu);\n",
    "X_poly_test = bsxfun(@rdivide, X_poly_test, sigma);\n",
    "X_poly_test = [ones(size(X_poly_test, 1), 1), X_poly_test];         % Add Ones\n",
    "\n",
    "% Map X_poly_val and normalize (using mu and sigma)\n",
    "X_poly_val = polyFeatures(Xval, p);\n",
    "X_poly_val = bsxfun(@minus, X_poly_val, mu);\n",
    "X_poly_val = bsxfun(@rdivide, X_poly_val, sigma);\n",
    "X_poly_val = [ones(size(X_poly_val, 1), 1), X_poly_val];           % Add Ones\n",
    "\n",
    "fprintf('Normalized Training Example 1:\\n');\n",
    "fprintf('  %f  \\n', X_poly(1, :));"
   ]
  },
  {
   "cell_type": "code",
   "execution_count": 8,
   "metadata": {},
   "outputs": [
    {
     "name": "stdout",
     "output_type": "stream",
     "text": [
      "Iteration    61 | Cost: 7.268148e+00\n",
      "Iteration     9 | Cost: 1.058041e-31\n",
      "Iteration    20 | Cost: 7.269436e-02\n",
      "Iteration    28 | Cost: 1.849879e+01\n",
      "Iteration    44 | Cost: 1.457586e+01\n",
      "Iteration    44 | Cost: 1.166072e+01\n",
      "Iteration    62 | Cost: 1.011882e+01\n",
      "Iteration    55 | Cost: 9.416317e+00\n",
      "Iteration    57 | Cost: 8.256224e+00\n",
      "warning: division by zero\n",
      "warning: called from\n",
      "    fmincg at line 102 column 12\n",
      "    trainLinearReg at line 19 column 7\n",
      "    learningCurve at line 57 column 11\n",
      "Iteration    69 | Cost: 7.802076e+00\n",
      "Iteration    66 | Cost: 7.064398e+00\n",
      "Iteration    70 | Cost: 6.423784e+00\n",
      "Iteration    61 | Cost: 7.268148e+00\n",
      "Polynomial Regression (lambda = 1.000000)\n",
      "\n",
      "# Training Examples\tTrain Error\tCross Validation Error\n",
      "  \t1\t\t0.000000\t138.846777\n",
      "  \t2\t\t0.045772\t143.522890\n",
      "  \t3\t\t2.911375\t5.534713\n",
      "  \t4\t\t1.499412\t6.609883\n",
      "  \t5\t\t1.199183\t6.634076\n",
      "  \t6\t\t0.924511\t8.291979\n",
      "  \t7\t\t1.540897\t5.737166\n",
      "  \t8\t\t1.422968\t5.516444\n",
      "  \t9\t\t1.553733\t6.239740\n",
      "  \t10\t\t1.441565\t5.983046\n",
      "  \t11\t\t1.308147\t6.043752\n",
      "  \t12\t\t2.076188\t4.260626\n"
     ]
    },
    {
     "data": {
      "image/png": "[encoded data removed]",
      "text/plain": [
       "<IPython.core.display.Image object>"
      ]
     },
     "metadata": {},
     "output_type": "display_data"
    },
    {
     "data": {
      "image/png": "[encoded data removed]",
      "text/plain": [
       "<IPython.core.display.Image object>"
      ]
     },
     "metadata": {},
     "output_type": "display_data"
    }
   ],
   "source": [
    "%% =========== Part 7: Learning Curve for Polynomial Regression =============\n",
    "%  Now, you will get to experiment with polynomial regression with multiple\n",
    "%  values of lambda. The code below runs polynomial regression with \n",
    "%  lambda = 0. You should try running the code with different values of\n",
    "%  lambda to see how the fit and learning curve change.\n",
    "%\n",
    "\n",
    "lambda = 1;\n",
    "[theta] = trainLinearReg(X_poly, y, lambda);\n",
    "\n",
    "% Plot training data and fit\n",
    "figure(1);\n",
    "plot(X, y, 'rx', 'MarkerSize', 10, 'LineWidth', 1.5);\n",
    "plotFit(min(X), max(X), mu, sigma, theta, p);\n",
    "xlabel('Change in water level (x)');\n",
    "ylabel('Water flowing out of the dam (y)');\n",
    "title (sprintf('Polynomial Regression Fit (lambda = %f)', lambda));\n",
    "\n",
    "figure(2);\n",
    "[error_train, error_val] = ...\n",
    "    learningCurve(X_poly, y, X_poly_val, yval, lambda);\n",
    "plot(1:m, error_train, 1:m, error_val);\n",
    "\n",
    "title(sprintf('Polynomial Regression Learning Curve (lambda = %f)', lambda));\n",
    "xlabel('Number of training examples')\n",
    "ylabel('Error')\n",
    "axis([0 13 0 100])\n",
    "legend('Train', 'Cross Validation')\n",
    "\n",
    "fprintf('Polynomial Regression (lambda = %f)\\n\\n', lambda);\n",
    "fprintf('# Training Examples\\tTrain Error\\tCross Validation Error\\n');\n",
    "for i = 1:m\n",
    "    fprintf('  \\t%d\\t\\t%f\\t%f\\n', i, error_train(i), error_val(i));\n",
    "end"
   ]
  },
  {
   "cell_type": "code",
   "execution_count": 9,
   "metadata": {},
   "outputs": [
    {
     "name": "stdout",
     "output_type": "stream",
     "text": [
      "lambda = 0\n",
      "Iteration   200 | Cost: 1.046742e-01\n",
      "lambda =  0.0010000\n",
      "Iteration   200 | Cost: 1.790136e-01\n",
      "lambda =  0.0030000\n",
      "Iteration   200 | Cost: 2.517690e-01\n",
      "lambda =  0.010000\n",
      "Iteration   200 | Cost: 3.850633e-01\n",
      "lambda =  0.030000\n",
      "Iteration   200 | Cost: 6.692749e-01\n",
      "lambda =  0.10000\n",
      "Iteration   178 | Cost: 1.443470e+00\n",
      "lambda =  0.30000\n",
      "Iteration   102 | Cost: 3.101591e+00\n",
      "lambda =  1\n",
      "Iteration    61 | Cost: 7.268148e+00\n",
      "lambda =  3\n",
      "Iteration    36 | Cost: 1.586769e+01\n",
      "lambda =  10\n",
      "Iteration    19 | Cost: 3.337220e+01\n",
      "lambda\t\tTrain Error\tValidation Error\n",
      " 0.000000\t0.104674\t9.621997\n",
      " 0.001000\t0.131455\t14.423586\n",
      " 0.003000\t0.183597\t18.575657\n",
      " 0.010000\t0.221578\t16.978888\n",
      " 0.030000\t0.281851\t12.829316\n",
      " 0.100000\t0.459318\t7.587014\n",
      " 0.300000\t0.921759\t4.636833\n",
      " 1.000000\t2.076188\t4.260626\n",
      " 3.000000\t4.901351\t3.822907\n",
      " 10.000000\t16.092213\t9.945509\n"
     ]
    },
    {
     "data": {
      "image/png": "[encoded data removed]",
      "text/plain": [
       "<IPython.core.display.Image object>"
      ]
     },
     "metadata": {},
     "output_type": "display_data"
    }
   ],
   "source": [
    "%% =========== Part 8: Validation for Selecting Lambda =============\n",
    "%  You will now implement validationCurve to test various values of \n",
    "%  lambda on a validation set. You will then use this to select the\n",
    "%  \"best\" lambda value.\n",
    "%\n",
    "\n",
    "[lambda_vec, error_train, error_val] = validationCurve(X_poly, y, X_poly_val, yval);\n",
    "\n",
    "close all;\n",
    "plot(lambda_vec, error_train, lambda_vec, error_val);\n",
    "legend('Train', 'Cross Validation');\n",
    "xlabel('lambda');\n",
    "ylabel('Error');\n",
    "\n",
    "fprintf('lambda\\t\\tTrain Error\\tValidation Error\\n');\n",
    "for i = 1:length(lambda_vec)\n",
    "    fprintf(' %f\\t%f\\t%f\\n', lambda_vec(i), error_train(i), error_val(i));\n",
    "end"
   ]
  },
  {
   "cell_type": "code",
   "execution_count": 10,
   "metadata": {},
   "outputs": [
    {
     "name": "stdout",
     "output_type": "stream",
     "text": [
      "Iteration    36 | Cost: 1.586769e+01\n",
      "Test set error: 3.859888\n",
      "\n"
     ]
    }
   ],
   "source": [
    "% Evaluate test set error\n",
    "lambda = 3;\n",
    "theta = trainLinearReg(X_poly, y, lambda);\n",
    "cost = linearRegCostFunction(X_poly_test, ytest, theta, 0);\n",
    "fprintf('Test set error: %f\\n\\n', cost);"
   ]
  },
  {
   "cell_type": "code",
   "execution_count": 11,
   "metadata": {},
   "outputs": [
    {
     "name": "stdout",
     "output_type": "stream",
     "text": [
      "== Submitting solutions | Regularized Linear Regression and Bias/Variance...\n"
     ]
    },
    {
     "name": "stdin",
     "output_type": "stream",
     "text": [
      "Use token from last successful submission (callisto@praseodym.net)? (Y/n): y\n"
     ]
    },
    {
     "name": "stdout",
     "output_type": "stream",
     "text": [
      "Iteration    14 | Cost: 2.436413e-33\n",
      "Iteration    15 | Cost: 1.655087e-01\n",
      "Iteration     9 | Cost: 1.608881e-01\n",
      "Iteration    16 | Cost: 2.461099e-01\n",
      "Iteration    10 | Cost: 2.012938e-01\n",
      "Iteration    10 | Cost: 1.752179e-01\n",
      "Iteration     8 | Cost: 1.538717e-01\n",
      "Iteration    10 | Cost: 1.360020e-01\n",
      "Iteration    11 | Cost: 1.253141e-01\n",
      "Iteration    11 | Cost: 1.155151e-01\n",
      "lambda = 0\n",
      "Iteration    12 | Cost: 1.151643e-01\n",
      "lambda =  0.0010000\n",
      "Iteration     9 | Cost: 1.151647e-01\n",
      "lambda =  0.0030000\n",
      "Iteration    11 | Cost: 1.151656e-01\n",
      "lambda =  0.010000\n",
      "Iteration     6 | Cost: 1.151685e-01\n",
      "lambda =  0.030000\n",
      "Iteration     6 | Cost: 1.151769e-01\n",
      "lambda =  0.10000\n",
      "Iteration    10 | Cost: 1.152058e-01\n",
      "lambda =  0.30000\n",
      "Iteration     6 | Cost: 1.152840e-01\n",
      "lambda =  1\n",
      "Iteration    11 | Cost: 1.155151e-01\n",
      "lambda =  3\n",
      "Iteration    11 | Cost: 1.159475e-01\n",
      "lambda =  10\n",
      "Iteration    14 | Cost: 1.165421e-01\n",
      "== \n",
      "==                                   Part Name |     Score | Feedback\n",
      "==                                   --------- |     ----- | --------\n",
      "== Regularized Linear Regression Cost Function |  25 /  25 | Nice work!\n",
      "==      Regularized Linear Regression Gradient |  25 /  25 | Nice work!\n",
      "==                              Learning Curve |  20 /  20 | Nice work!\n",
      "==                  Polynomial Feature Mapping |  10 /  10 | Nice work!\n",
      "==                            Validation Curve |  20 /  20 | Nice work!\n",
      "==                                   --------------------------------\n",
      "==                                             | 100 / 100 | \n",
      "== \n"
     ]
    }
   ],
   "source": [
    "submit"
   ]
  }
 ],
 "metadata": {
  "kernelspec": {
   "display_name": "Octave",
   "language": "octave",
   "name": "octave"
  },
  "language_info": {
   "file_extension": ".m",
   "help_links": [
    {
     "text": "GNU Octave",
     "url": "https://www.gnu.org/software/octave/support.html"
    },
    {
     "text": "Octave Kernel",
     "url": "https://github.com/Calysto/octave_kernel"
    },
    {
     "text": "MetaKernel Magics",
     "url": "https://github.com/calysto/metakernel/blob/master/metakernel/magics/README.md"
    }
   ],
   "mimetype": "text/x-octave",
   "name": "octave",
   "version": "4.4.1"
  }
 },
 "nbformat": 4,
 "nbformat_minor": 2
}
